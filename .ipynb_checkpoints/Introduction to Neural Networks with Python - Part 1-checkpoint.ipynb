{
 "cells": [
  {
   "cell_type": "code",
   "execution_count": 1,
   "metadata": {},
   "outputs": [
    {
     "name": "stdout",
     "output_type": "stream",
     "text": [
      "Populating the interactive namespace from numpy and matplotlib\n"
     ]
    }
   ],
   "source": [
    "%pylab inline"
   ]
  },
  {
   "cell_type": "markdown",
   "metadata": {},
   "source": [
    "## Introduction to Neural Networks with Python - Part 1"
   ]
  },
  {
   "cell_type": "markdown",
   "metadata": {},
   "source": [
    "### What is an Artificial Neural Network?\n",
    "\n",
    "> Neural networks are a set of algorithms, modeled loosely after the human brain, that are designed to recognize patterns. They interpret sensory data through a kind of machine perception, labeling or clustering raw input. The patterns they recognize are numerical, contained in vectors, into which all real-world data, be it images, sound, text or time series, must be translated.\n",
    " -- [deeplearning4j](https://deeplearning4j.org/neuralnet-overview)\n",
    "\n",
    "![Artificial Neural Network](figs/ann.png)\n",
    "\n",
    "An artificial neural network, or ANN, is __composed of a set of neurons, or perceptrons__, that are connected in a __hierarchical order__. In the context of __supervised learning__, where the objective is to __approximate a function given some data__, neural networks are theoretically able to approximate any function. Thus, neural networks are also referred to as __universal function approximators__. \n",
    "\n",
    "### Perceptrons\n",
    "\n",
    "Let's start with a single neuron first, also called the Perceptron.\n",
    "\n",
    "\n",
    "![Perceptron](figs/perceptron.png)\n",
    "\n",
    "A perceptron is a node that accepts a __fixed arbitrary number of inputs__, and gives a __single output__.\n",
    "\n",
    "\n",
    "The __importance of the inputs__ of a perceptron is represented by the __weights__ or visually, the strength of the edges from the inputs to the neurons.\n",
    "\n",
    "As the perceptron is biologically-inspired from how actual neurons work, if the values of the inputs satisfy a certain threshold then the perceptron gets turned on or \"activated\". This threshold value is commonly referred to as the __bias__.\n",
    "\n",
    "For now, let's just assume that the activation output of the perceptron is binary, meaning that its outputs are just 0 or 1.\n",
    "\n",
    "Mathematically, it's expressed as:\n",
    "\n",
    "![Perceptron Equation](figs/perceptron_eq.png)\n",
    "\n",
    "where $\\cdot$ is the dot product of the inputs and the weights.\n",
    "\n",
    "Generalizing the equation for the perceptron, \n",
    "\n",
    "$ output = \\alpha(w \\cdot x + b) $\n",
    "\n",
    "where $ \\alpha $ = 1 if greater than 0, else 0.\n",
    "\n",
    "$ \\alpha $ refers to the __activation__ function."
   ]
  },
  {
   "cell_type": "code",
   "execution_count": 2,
   "metadata": {},
   "outputs": [
    {
     "name": "stdout",
     "output_type": "stream",
     "text": [
      "Ther perceptron output is 0\n"
     ]
    }
   ],
   "source": [
    "# Code implementation of a simple perceptron\n",
    "\n",
    "w = [0.1, 0.2, 0.7]\n",
    "x = [1, 1, 0]\n",
    "b = -0.4\n",
    "\n",
    "def activation(val):\n",
    "    if val <= 0:\n",
    "        return 0\n",
    "    else:\n",
    "        return 1\n",
    "\n",
    "output = activation(np.dot(w, x) + b)\n",
    "print(\"Ther perceptron output is %d\" % output)\n",
    "\n",
    "# Exercise:\n",
    "# Can you create an activation function that results to a perceptron acting as a linear regression?"
   ]
  },
  {
   "cell_type": "markdown",
   "metadata": {},
   "source": [
    "The binary activation function of the perceptron is a bit limiting. What if we wanted outputs that are not just 0s or 1s? \n",
    "\n",
    "One available activation function that we can use is the sigmoid $\\sigma$ or logistic function.\n",
    "\n",
    "![Sigmoid function](figs/sigmoid_eq.png)\n",
    "\n",
    "It's good to note that there are a lot of activation functions that are being used in neural networks. ReLu, ELU, SeLU, and a whole lot of these functions greatly determine the performance of neural networks. Finding good activation functions are still an active area of research in this field.\n",
    "\n",
    "In fact, the sigmoid or logistic function isn't used that often as it encounters the __vanishing gradient problem__, which will be discussed later on. \n",
    "\n",
    "But for now, it's a great starting point for learning.\n"
   ]
  },
  {
   "cell_type": "code",
   "execution_count": 3,
   "metadata": {},
   "outputs": [
    {
     "data": {
      "text/plain": [
       "[<matplotlib.lines.Line2D at 0x17309c4b550>]"
      ]
     },
     "execution_count": 3,
     "metadata": {},
     "output_type": "execute_result"
    },
    {
     "data": {
      "image/png": "[encoded data removed]",
      "text/plain": [
       "<matplotlib.figure.Figure at 0x17307bc8940>"
      ]
     },
     "metadata": {},
     "output_type": "display_data"
    }
   ],
   "source": [
    "def sigmoid(val):\n",
    "    return 1 / (1 + np.exp(-val))\n",
    "\n",
    "w = [1]\n",
    "xs = np.linspace(-5, 5)\n",
    "b = 0\n",
    "outputs = []\n",
    "for x in xs:\n",
    "    outputs.append(sigmoid(np.dot(w, x) + b))\n",
    "\n",
    "plot(xs, outputs)"
   ]
  },
  {
   "cell_type": "markdown",
   "metadata": {},
   "source": [
    "__Now what? How does a perceptron or neural networks even _learn_?__\n",
    "\n",
    "You might have noticed that the __weights and the biases__ of a perceptron heavily __influences its output__, and you're right! \n",
    "\n",
    "Recall that the objective is to __approximate a function given some data__. \n",
    "\n",
    "Thus, if we give __a set of inputs and outputs__ for our perceptron, it should be able to __adjust its weights and bias accordingly__. \n",
    "\n",
    "How then, can the perceptron know that it needs to improve and change its weights and biases? \n",
    "\n",
    "### The Cost function\n",
    "Also referred to as the objective function or the loss function.\n",
    "\n",
    "The mission of the cost function is __to quantify__ and tell the perceptron on how __good or accurate__ it is when given some inputs and target outputs.\n",
    "\n",
    "Like the activation function, there are a variety of cost functions that we can use. For now, let's stick with the __Mean Squared Error__ or __MSE__.\n",
    "\n",
    "Mathematically, it's defined as:\n",
    "\n",
    "$ C(w, b) = \\frac{1}{n} \\sum_x (y_p(x) - y_t)^2 $\n",
    "\n",
    "Where: \n",
    "\n",
    "__w__ is the weights\n",
    "\n",
    "__b__ is the bias\n",
    "\n",
    "__n__ is the number of data points\n",
    "\n",
    "__$y_p$__ is the predicted output of the perceptron\n",
    "\n",
    "__x__ input data\n",
    "\n",
    "__$y_t$__ is the real output\n",
    "\n",
    "The properties of the MSE function is as follows:\n",
    "\n",
    "1. It is always positive, because of the squaring of the differences between the predicted and target outputs.\n",
    "2. When the difference between the predicted and target outputs are high, then the value of the cost function is also high.\n",
    "3. If the predicted and target outputs are the same, then the cost function will be 0."
   ]
  },
  {
   "cell_type": "code",
   "execution_count": 4,
   "metadata": {
    "collapsed": true
   },
   "outputs": [],
   "source": [
    "# Implementation of the Mean Squared Error\n",
    "\n",
    "def sigmoid(val):\n",
    "    return 1 / (1 + np.exp(-val))\n",
    "\n",
    "def perceptron(w, b, x):\n",
    "    return sigmoid(np.dot(w, x) + b)\n",
    "\n",
    "def cost_function(w, b, xs, yts):\n",
    "    n = len(xs)\n",
    "    squared_err = np.array([])\n",
    "    for x, yt in zip(xs, yts):\n",
    "        squared_err = np.append(squared_err, np.square(perceptron(w, b, x) - yt))\n",
    "    return squared_err.sum() / n"
   ]
  },
  {
   "cell_type": "code",
   "execution_count": 5,
   "metadata": {},
   "outputs": [
    {
     "name": "stdout",
     "output_type": "stream",
     "text": [
      "Calculated cost is  0.13426267352\n"
     ]
    }
   ],
   "source": [
    "# Example calculation of cost function\n",
    "\n",
    "w = [0.5, 0.3, 0.8]\n",
    "b = -0.4\n",
    "xs = [[1, 0, 1], \n",
    "      [1, 1, 1],\n",
    "      [0, 1, 0], \n",
    "      [0, 1, 1], \n",
    "      [1, 0, 0]]\n",
    "yts = [0.5, 0.2, 0.8, 0.8, 0.1]\n",
    "\n",
    "print(\"Calculated cost is \", cost_function(w, b, xs, yts)) "
   ]
  },
  {
   "cell_type": "markdown",
   "metadata": {},
   "source": [
    "__Now that the perceptron \"knows\" how good its weights and bias are, how can it adapt and attempt reduce the cost function to zero?__\n",
    "\n",
    "### Optimization Algorithms\n",
    "The goal of optimization algorithms is __to reduce the cost function__ to its minimum value. \n",
    "\n",
    "Like activation and cost functions, there are also a variety of different optimization algorithms. For neural networks, the popular and mostly successful one is a family of algorithms called __Gradient Descent__.\n",
    "\n",
    "An ELI5 or Explain like I'm 5 for gradient descent is:\n",
    "\n",
    "> Imagine you're standing somewhere on a mountain. You want to get as low as possible as fast as possible, so you decide to follow these steps:\n",
    "You check your current altitude, your altitude a step north, a step south, a step east, and a step west. Using this, you figure out which direction you should step to reduce your altitude as much as possible in this step.\n",
    "Repeat until stepping in any direction will cause you to go up again.\n",
    "Now, this is a wonderfully simple algorithm. You just have to figure out which direction the mountain is sloping where you are (this is the gradient) and take a step (this is your descent). -- [koooooj](https://www.reddit.com/r/explainlikeimfive/comments/2akok1/eli5_what_is_gradient_descent/ciw488c/) \n",
    "\n",
    "Given the possible outputs of a cost function of a 2-input perceptron is the graph below.\n",
    "\n",
    "![Cost graph](figs/cost_graph.png)\n",
    "\n",
    "Mathematically, in the context of our perceptron:\n",
    "\n",
    "![Gradient Descent](figs/grad_descent_eq.png)\n",
    "\n",
    "Where:\n",
    "\n",
    "$ \\eta $ is the learning rate or how large the step of the gradient descent will be."
   ]
  },
  {
   "cell_type": "code",
   "execution_count": 6,
   "metadata": {
    "collapsed": true
   },
   "outputs": [],
   "source": [
    "def GD_training():\n",
    "    w = np.array([0.5, 0.3, 0.8])\n",
    "    b = -0.4\n",
    "    xs = np.array([[1, 0, 1], \n",
    "          [1, 1, 1],\n",
    "          [0, 1, 0], \n",
    "          [0, 1, 1], \n",
    "          [1, 0, 0]])\n",
    "    yts = [0.5, 0.2, 0.8, 0.8, 0.1]\n",
    "    eta = 0.01\n",
    "    for i in range(200):\n",
    "        cost = cost_function(w, b, xs, yts)\n",
    "        w -= eta * cost\n",
    "        b -= eta * cost\n",
    "        if i % 10 == 0:\n",
    "            print(\"Step \", i, \": \", cost)\n",
    "    print(\"Calculated weights: \", w)\n",
    "    print(\"Calculated bias: \", b)"
   ]
  },
  {
   "cell_type": "code",
   "execution_count": 7,
   "metadata": {},
   "outputs": [
    {
     "name": "stdout",
     "output_type": "stream",
     "text": [
      "Step  0 :  0.13426267352\n",
      "Step  10 :  0.131649082408\n",
      "Step  20 :  0.129149946578\n",
      "Step  30 :  0.126765301758\n",
      "Step  40 :  0.124494919158\n",
      "Step  50 :  0.122338339541\n",
      "Step  60 :  0.12029490698\n",
      "Step  70 :  0.11836380186\n",
      "Step  80 :  0.116544072756\n",
      "Step  90 :  0.114834666907\n",
      "Step  100 :  0.113234459065\n",
      "Step  110 :  0.111742278571\n",
      "Step  120 :  0.110356934567\n",
      "Step  130 :  0.109077239293\n",
      "Step  140 :  0.107902029477\n",
      "Step  150 :  0.106830185839\n",
      "Step  160 :  0.105860650771\n",
      "Step  170 :  0.104992444258\n",
      "Step  180 :  0.104224678142\n",
      "Step  190 :  0.103556568801\n",
      "Calculated weights:  [ 0.26977761  0.06977761  0.56977761]\n",
      "Calculated bias:  -0.630222387699\n"
     ]
    }
   ],
   "source": [
    "GD_training()"
   ]
  },
  {
   "cell_type": "markdown",
   "metadata": {},
   "source": [
    "### Exercises\n",
    "1. Try to use other cost functions, such as RMSE or MAE. How does it affect the gradient descent process?\n",
    "2. What about activation functions? Does the sigmoid function help or not? "
   ]
  },
  {
   "cell_type": "markdown",
   "metadata": {},
   "source": [
    "## Next Week\n",
    "\n",
    "1st Day:\n",
    "1. We'll be creating our own multilayer perceptrons (MLPs)\n",
    "2. We'll be discussing about how backpropagation works\n",
    "\n",
    "2nd Day:\n",
    "1. We'll fast track to using Tensorflow and its various APIs.\n",
    "2. We'll be discussing about Convolutional Neural Networks."
   ]
  },
  {
   "cell_type": "markdown",
   "metadata": {},
   "source": [
    "### Credits to\n",
    "[Michael Nielsen: Neural Networks and Deep Learning](http://neuralnetworksanddeeplearning.com/)\n",
    "for the Concepts, figures, and graphs"
   ]
  }
 ],
 "metadata": {
  "kernelspec": {
   "display_name": "Python 3",
   "language": "python",
   "name": "python3"
  },
  "language_info": {
   "codemirror_mode": {
    "name": "ipython",
    "version": 3
   },
   "file_extension": ".py",
   "mimetype": "text/x-python",
   "name": "python",
   "nbconvert_exporter": "python",
   "pygments_lexer": "ipython3",
   "version": "3.6.1"
  }
 },
 "nbformat": 4,
 "nbformat_minor": 2
}
